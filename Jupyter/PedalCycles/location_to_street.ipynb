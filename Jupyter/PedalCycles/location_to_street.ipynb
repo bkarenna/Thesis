{
 "cells": [
  {
   "cell_type": "code",
   "execution_count": 1,
   "metadata": {},
   "outputs": [],
   "source": [
    "from geopy.geocoders import Nominatim\n",
    "import json"
   ]
  },
  {
   "cell_type": "code",
   "execution_count": 2,
   "metadata": {},
   "outputs": [],
   "source": [
    "geolocator = Nominatim(user_agent=\"London\")"
   ]
  },
  {
   "cell_type": "code",
   "execution_count": 3,
   "metadata": {},
   "outputs": [],
   "source": [
    "location = geolocator.reverse(\"51.5875189, -0.237952862\")\n",
    "#location = geolocator.reverse(\"51.587518897173794, 0.23795286204022212\")"
   ]
  },
  {
   "cell_type": "code",
   "execution_count": 4,
   "metadata": {},
   "outputs": [
    {
     "name": "stdout",
     "output_type": "stream",
     "text": [
      "N22, M1, Hendon, The Hyde, London Borough of Barnet, London, Greater London, England, NW4 4PT, UK\n"
     ]
    }
   ],
   "source": [
    "print(location.address)"
   ]
  },
  {
   "cell_type": "code",
   "execution_count": 5,
   "metadata": {},
   "outputs": [
    {
     "name": "stdout",
     "output_type": "stream",
     "text": [
      "M1\n"
     ]
    }
   ],
   "source": [
    "print((location.address).split(\", \")[1])\n"
   ]
  },
  {
   "cell_type": "code",
   "execution_count": 6,
   "metadata": {},
   "outputs": [
    {
     "name": "stdout",
     "output_type": "stream",
     "text": [
      "{'place_id': 27580671, 'licence': 'Data © OpenStreetMap contributors, ODbL 1.0. https://osm.org/copyright', 'osm_type': 'node', 'osm_id': 2627416748, 'lat': '51.5874481', 'lon': '-0.2379044', 'display_name': 'N22, M1, Hendon, The Hyde, London Borough of Barnet, London, Greater London, England, NW4 4PT, UK', 'address': {'address29': 'N22', 'road': 'M1', 'suburb': 'Hendon, The Hyde', 'city': 'London', 'state_district': 'Greater London', 'state': 'England', 'postcode': 'NW4 4PT', 'country': 'UK', 'country_code': 'gb'}, 'boundingbox': ['51.5873481', '51.5875481', '-0.2380044', '-0.2378044']}\n"
     ]
    }
   ],
   "source": [
    "print(location.raw)"
   ]
  },
  {
   "cell_type": "code",
   "execution_count": null,
   "metadata": {},
   "outputs": [],
   "source": []
  }
 ],
 "metadata": {
  "kernelspec": {
   "display_name": "Python 3",
   "language": "python",
   "name": "python3"
  },
  "language_info": {
   "codemirror_mode": {
    "name": "ipython",
    "version": 3
   },
   "file_extension": ".py",
   "mimetype": "text/x-python",
   "name": "python",
   "nbconvert_exporter": "python",
   "pygments_lexer": "ipython3",
   "version": "3.6.7"
  }
 },
 "nbformat": 4,
 "nbformat_minor": 2
}
