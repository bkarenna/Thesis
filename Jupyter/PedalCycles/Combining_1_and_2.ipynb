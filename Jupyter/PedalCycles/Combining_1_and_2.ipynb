{
 "cells": [
  {
   "cell_type": "code",
   "execution_count": 1,
   "metadata": {},
   "outputs": [],
   "source": [
    "import pandas as pd\n",
    "import numpy as np\n",
    "import numpy.linalg as npl\n",
    "from IPython.display import clear_output\n",
    "df_2017 = pd.read_csv(\"data/sorted_data_from_volume_of_traffic_2017.csv\")\n",
    "df_sp_synx = pd.read_csv(\"data/london_Segment_Map5000_10000.csv\")\n"
   ]
  },
  {
   "cell_type": "code",
   "execution_count": 2,
   "metadata": {},
   "outputs": [
    {
     "name": "stderr",
     "output_type": "stream",
     "text": [
      "G:\\apps\\Anaconda\\lib\\site-packages\\ipykernel_launcher.py:2: FutureWarning: Method .as_matrix will be removed in a future version. Use .values instead.\n",
      "  \n",
      "G:\\apps\\Anaconda\\lib\\site-packages\\ipykernel_launcher.py:3: FutureWarning: Method .as_matrix will be removed in a future version. Use .values instead.\n",
      "  This is separate from the ipykernel package so we can avoid doing imports until\n"
     ]
    }
   ],
   "source": [
    "# Loading data in numpy arrays\n",
    "df_2017_matrix = df_2017.as_matrix()\n",
    "df_sp_synx_matrix = df_sp_synx.as_matrix()"
   ]
  },
  {
   "cell_type": "code",
   "execution_count": 3,
   "metadata": {},
   "outputs": [],
   "source": [
    "# not to calculate length every time\n",
    "len_synx = len(df_sp_synx_matrix)\n",
    "len_pc = len(df_2017_matrix)"
   ]
  },
  {
   "cell_type": "code",
   "execution_count": 4,
   "metadata": {},
   "outputs": [
    {
     "name": "stdout",
     "output_type": "stream",
     "text": [
      "[[0. 0. 0. ... 0. 0. 0.]\n",
      " [0. 0. 0. ... 0. 0. 0.]\n",
      " [0. 0. 0. ... 0. 0. 0.]\n",
      " ...\n",
      " [0. 0. 0. ... 0. 0. 0.]\n",
      " [0. 0. 0. ... 0. 0. 0.]\n",
      " [0. 0. 0. ... 0. 0. 0.]]\n"
     ]
    }
   ],
   "source": [
    "# initializing empty array for results\n",
    "combined = np.zeros((len_pc, 12))\n",
    "print(combined)"
   ]
  },
  {
   "cell_type": "code",
   "execution_count": 5,
   "metadata": {},
   "outputs": [],
   "source": [
    "# function to calculate the distance from a point to a lane \n",
    "def diff(x1,y1,x2,y2,x3,y3):\n",
    "    p1 = np.array([x1,y1])\n",
    "    p2 = np.array([x2,y2])\n",
    "    p3 = np.array([x3,y3])\n",
    "    return npl.norm(np.cross(p2-p1, p1-p3))/npl.norm(p2-p1)\n",
    "def diff2(x1,y1,x2,y2,x3,y3):\n",
    "    p1[0],p1[1] = x1,y1\n",
    "    p2[0],p2[1] = x2,y2\n",
    "    p3[0],p3[1] = x3,y3\n",
    "    return npl.norm(np.cross(p2-p1, p1-p3))/npl.norm(p2-p1)\n",
    "\n",
    "# returns index of closest segment to a point\n",
    "def find_closest_index(x, y):\n",
    "    # Setting first element to min to compare it later\n",
    "    x1 = df_sp_synx_matrix[0][1]\n",
    "    y1 = df_sp_synx_matrix[0][2]\n",
    "    x2 = df_sp_synx_matrix[0][3]\n",
    "    y2 = df_sp_synx_matrix[0][4]  \n",
    "    min_dist = diff(x1,y1,x2,y2,x,y)\n",
    "    min_index = 0\n",
    "    \n",
    "    # cycling through the array to find minimal distance \n",
    "    for row in df_sp_synx_matrix:      \n",
    "        dist = diff(row[1],row[2],row[3],row[4],x,y)\n",
    "        if dist < min_dist:\n",
    "            min_dist = dist\n",
    "            min_index = row[0]\n",
    "    return int(min_index)"
   ]
  },
  {
   "cell_type": "markdown",
   "metadata": {},
   "source": [
    "# Test for optimizing\n",
    "import time\n",
    "start = time.time()\n",
    "print(find_closest_index(510818, 198940))\n",
    "end = time.time()\n",
    "print(end-start)"
   ]
  },
  {
   "cell_type": "code",
   "execution_count": 6,
   "metadata": {},
   "outputs": [
    {
     "name": "stdout",
     "output_type": "stream",
     "text": [
      "99%(1826/1827)\n"
     ]
    }
   ],
   "source": [
    "# Create a common array contayning combined sorted data\n",
    "for j in range(len_pc):\n",
    "    index = find_closest_index(df_2017_matrix[j][2],df_2017_matrix[j][3])\n",
    "    combined[j][0]  = df_2017_matrix[j][1]        # CP\n",
    "    combined[j][1]  = df_2017_matrix[j][0]        # Year \n",
    "    combined[j][2]  = df_sp_synx_matrix[index][1] # x1 line\n",
    "    combined[j][3]  = df_sp_synx_matrix[index][2] # y1 line\n",
    "    combined[j][4]  = df_sp_synx_matrix[index][3] # x2 line\n",
    "    combined[j][5]  = df_sp_synx_matrix[index][4] # y2 line\n",
    "    combined[j][6]  = df_2017_matrix[j][2]        # x point \n",
    "    combined[j][7]  = df_2017_matrix[j][3]        # y point\n",
    "    combined[j][8]  = df_2017_matrix[j][4]        # Pedal cycles\n",
    "    combined[j][9]  = df_2017_matrix[j][5]        # AllMotorVehicles\n",
    "    combined[j][10] = df_sp_synx_matrix[index][10]# Choice 10k\n",
    "    combined[j][11] = df_sp_synx_matrix[index][11]# Choice 5k\n",
    "    clear_output()\n",
    "    percent = int((j/len_pc)*100)\n",
    "    str = \"{}%({}/{})\".format(percent,j,len_pc)\n",
    "    print(str)\n"
   ]
  },
  {
   "cell_type": "code",
   "execution_count": 7,
   "metadata": {},
   "outputs": [],
   "source": [
    "np.savetxt(\"data/2_features.csv\", combined, delimiter=\",\")"
   ]
  }
 ],
 "metadata": {
  "kernelspec": {
   "display_name": "Python 3",
   "language": "python",
   "name": "python3"
  },
  "language_info": {
   "codemirror_mode": {
    "name": "ipython",
    "version": 3
   },
   "file_extension": ".py",
   "mimetype": "text/x-python",
   "name": "python",
   "nbconvert_exporter": "python",
   "pygments_lexer": "ipython3",
   "version": "3.6.7"
  }
 },
 "nbformat": 4,
 "nbformat_minor": 2
}
