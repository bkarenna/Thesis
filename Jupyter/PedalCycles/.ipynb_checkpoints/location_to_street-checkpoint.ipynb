{
 "cells": [
  {
   "cell_type": "code",
   "execution_count": 1,
   "metadata": {},
   "outputs": [],
   "source": [
    "from geopy.geocoders import Nominatim\n",
    "import json"
   ]
  },
  {
   "cell_type": "code",
   "execution_count": 2,
   "metadata": {},
   "outputs": [],
   "source": [
    "geolocator = Nominatim(user_agent=\"London\")"
   ]
  },
  {
   "cell_type": "code",
   "execution_count": 3,
   "metadata": {},
   "outputs": [],
   "source": [
    "location = geolocator.reverse(\"51.5875189, -0.237952862\")\n",
    "#location = geolocator.reverse(\"51.587518897173794, 0.23795286204022212\")"
   ]
  },
  {
   "cell_type": "code",
   "execution_count": 4,
   "metadata": {},
   "outputs": [
    {
     "name": "stdout",
     "output_type": "stream",
     "text": [
      "Teenage Area, Recreation Avenue, Harold Wood, London Borough of Havering, London, Greater London, England, RM3 0TU, UK\n"
     ]
    }
   ],
   "source": [
    "print(location.address)"
   ]
  },
  {
   "cell_type": "code",
   "execution_count": 5,
   "metadata": {},
   "outputs": [
    {
     "name": "stdout",
     "output_type": "stream",
     "text": [
      "Recreation Avenue\n"
     ]
    }
   ],
   "source": [
    "print((location.address).split(\", \")[1])\n"
   ]
  },
  {
   "cell_type": "code",
   "execution_count": 6,
   "metadata": {},
   "outputs": [
    {
     "name": "stdout",
     "output_type": "stream",
     "text": [
      "{'place_id': 158064684, 'licence': 'Data © OpenStreetMap contributors, ODbL 1.0. https://osm.org/copyright', 'osm_type': 'way', 'osm_id': 364974451, 'lat': '51.5872806', 'lon': '0.235742462782167', 'display_name': 'Teenage Area, Recreation Avenue, Harold Wood, London Borough of Havering, London, Greater London, England, RM3 0TU, UK', 'address': {'sports_centre': 'Teenage Area', 'road': 'Recreation Avenue', 'suburb': 'Harold Wood', 'city': 'London', 'state_district': 'Greater London', 'state': 'England', 'postcode': 'RM3 0TU', 'country': 'UK', 'country_code': 'gb'}, 'boundingbox': ['51.586774', '51.5885005', '0.2347404', '0.2375407']}\n"
     ]
    }
   ],
   "source": [
    "print(location.raw)"
   ]
  },
  {
   "cell_type": "code",
   "execution_count": null,
   "metadata": {},
   "outputs": [],
   "source": []
  }
 ],
 "metadata": {
  "kernelspec": {
   "display_name": "Python 3",
   "language": "python",
   "name": "python3"
  },
  "language_info": {
   "codemirror_mode": {
    "name": "ipython",
    "version": 3
   },
   "file_extension": ".py",
   "mimetype": "text/x-python",
   "name": "python",
   "nbconvert_exporter": "python",
   "pygments_lexer": "ipython3",
   "version": "3.6.7"
  }
 },
 "nbformat": 4,
 "nbformat_minor": 2
}
