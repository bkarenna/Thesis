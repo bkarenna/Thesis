{
 "cells": [
  {
   "cell_type": "code",
   "execution_count": 1,
   "metadata": {},
   "outputs": [],
   "source": [
    "import numpy as np\n",
    "import numpy.linalg as npl\n",
    "import timeit"
   ]
  },
  {
   "cell_type": "code",
   "execution_count": 2,
   "metadata": {},
   "outputs": [],
   "source": [
    "def diff2(x1,y1,x2,y2,x3,y3):\n",
    "    p1 = np.array([x1,y1])\n",
    "    p2 = np.array([x2,y2])\n",
    "    p3 = np.array([x3,y3])\n",
    "    return npl.norm(np.cross(p2-p1, p1-p3))/npl.norm(p2-p1)\n",
    "def diff(p1, p2, p3):    \n",
    "    pa1 = np.asarray(p1)\n",
    "    pa2 = np.asarray(p2)\n",
    "    pa3 = np.asarray(p3)\n",
    "    return npl.norm(np.cross(pa2-pa1, p1-pa3))/npl.norm(pa2-pa1)"
   ]
  },
  {
   "cell_type": "code",
   "execution_count": 3,
   "metadata": {},
   "outputs": [
    {
     "name": "stdout",
     "output_type": "stream",
     "text": [
      "2.0\n",
      "diff\n",
      "-0.00021549999999999868\n",
      "2.0\n",
      "diff2\n",
      "5.60999999999999e-05\n"
     ]
    }
   ],
   "source": [
    "start = timeit.timeit()\n",
    "for i in range(5000):\n",
    "    diff([1,0],[5,0],[3,2])\n",
    "end = timeit.timeit()\n",
    "print(end - start)\n",
    "\n",
    "start2 = timeit.timeit()\n",
    "for i in range(5000):\n",
    "    diff2(1,0,5,0,3,2)\n",
    "end2 = timeit.timeit()\n",
    "print(end2 - start2)"
   ]
  },
  {
   "cell_type": "code",
   "execution_count": null,
   "metadata": {},
   "outputs": [],
   "source": []
  },
  {
   "cell_type": "code",
   "execution_count": null,
   "metadata": {},
   "outputs": [],
   "source": []
  }
 ],
 "metadata": {
  "kernelspec": {
   "display_name": "Python 3",
   "language": "python",
   "name": "python3"
  },
  "language_info": {
   "codemirror_mode": {
    "name": "ipython",
    "version": 3
   },
   "file_extension": ".py",
   "mimetype": "text/x-python",
   "name": "python",
   "nbconvert_exporter": "python",
   "pygments_lexer": "ipython3",
   "version": "3.6.7"
  }
 },
 "nbformat": 4,
 "nbformat_minor": 2
}
