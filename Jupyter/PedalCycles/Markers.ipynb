{
 "cells": [
  {
   "cell_type": "code",
   "execution_count": 1,
   "metadata": {},
   "outputs": [],
   "source": [
    "# Imports\n",
    "from ipyleaflet import Map, basemaps, basemap_to_tiles, Circle\n",
    "import pandas as pd\n",
    "from ipywidgets import HTML"
   ]
  },
  {
   "cell_type": "code",
   "execution_count": 2,
   "metadata": {},
   "outputs": [],
   "source": [
    "# Load a csvs file\n",
    "df = pd.read_csv(\"data/converted.csv\")"
   ]
  },
  {
   "cell_type": "markdown",
   "metadata": {},
   "source": [
    "def to_hex(nr):\n",
    "    if nr == 0:\n",
    "        return \"00\"\n",
    "    if (nr>15):\n",
    "        return hex(nr).lstrip(\"0x\")\n",
    "    else:\n",
    "        return (\"0\"+(hex(nr).lstrip(\"0x\")))"
   ]
  },
  {
   "cell_type": "markdown",
   "metadata": {},
   "source": [
    "def map_color(value, maximum):\n",
    "    if value == 0: return \"black\"\n",
    "    else:\n",
    "        ratio = 1023/maximum\n",
    "        color_value=int(value*ratio)\n",
    "        if color_value < 256:\n",
    "            r=\"00\"\n",
    "            g=to_hex(color_value)\n",
    "            b=\"ff\"\n",
    "        elif color_value < 512:\n",
    "            r=\"00\"\n",
    "            g=\"ff\"\n",
    "            b=to_hex((255-(color_value%256)))\n",
    "        elif color_value < 768:\n",
    "            r=to_hex(color_value%256)\n",
    "            print(color_value)\n",
    "            g=\"ff\"\n",
    "            b=\"00\"\n",
    "        elif color_value < 1024:\n",
    "            r=\"ff\"\n",
    "            g=to_hex(255-(color_value%256))\n",
    "            print(color_value)\n",
    "            b=\"00\"\n",
    "        else:\n",
    "            r=\"ff\"\n",
    "            g=\"00\"\n",
    "            b=\"00\"\n",
    "        return (\"#\"+r+g+b).upper()"
   ]
  },
  {
   "cell_type": "code",
   "execution_count": 3,
   "metadata": {},
   "outputs": [],
   "source": [
    "# Function to create a marker at given location\n",
    "def set_marker(long, lat, amount, map):\n",
    "    # Choosing circles color\n",
    "    if amount == 0: colorScale=\"black\"\n",
    "    elif amount<25:\n",
    "        colorScale=\"blue\"\n",
    "    elif amount<50:\n",
    "        colorScale=\"#0070FF\"\n",
    "    elif amount<100:\n",
    "        colorScale=\"green\"\n",
    "    elif amount<200:\n",
    "        colorScale=\"yellow\"\n",
    "    elif amount<500:\n",
    "        colorScale=\"orange\"\n",
    "    else:\n",
    "        colorScale=\"red\"\n",
    "    \n",
    "    # Creating a circle\n",
    "    circle = Circle()\n",
    "    circle.location = (long, lat)\n",
    "    circle.radius = 10\n",
    "    circle.color = colorScale\n",
    "    circle.fill_color = colorScale\n",
    "    \n",
    "    #adding popup values \n",
    "    circle.popup = HTML(value=str(amount))\n",
    "    map.add_layer(circle)"
   ]
  },
  {
   "cell_type": "code",
   "execution_count": 4,
   "metadata": {},
   "outputs": [],
   "source": [
    "watercolor = basemap_to_tiles(basemaps.Stamen.Watercolor)\n",
    "\n",
    "m = Map(center=(51.5074, 0.1278), zoom=13)"
   ]
  },
  {
   "cell_type": "code",
   "execution_count": 5,
   "metadata": {},
   "outputs": [],
   "source": [
    "length = len(df['Longitude'])\n",
    "for i in range(31154,length):\n",
    "    set_marker(df['Latitude'][i],df['Longitude'][i],df['PedalCycles'][i],m)        "
   ]
  },
  {
   "cell_type": "code",
   "execution_count": 6,
   "metadata": {
    "scrolled": true
   },
   "outputs": [
    {
     "data": {
      "application/vnd.jupyter.widget-view+json": {
       "model_id": "2916a6d116674645bacebd9e7a17ee5b",
       "version_major": 2,
       "version_minor": 0
      },
      "text/plain": [
       "Map(basemap={'url': 'https://{s}.tile.openstreetmap.org/{z}/{x}/{y}.png', 'max_zoom': 19, 'attribution': 'Map …"
      ]
     },
     "metadata": {},
     "output_type": "display_data"
    }
   ],
   "source": [
    "m"
   ]
  },
  {
   "cell_type": "code",
   "execution_count": null,
   "metadata": {},
   "outputs": [],
   "source": []
  }
 ],
 "metadata": {
  "kernelspec": {
   "display_name": "Python 3",
   "language": "python",
   "name": "python3"
  },
  "language_info": {
   "codemirror_mode": {
    "name": "ipython",
    "version": 3
   },
   "file_extension": ".py",
   "mimetype": "text/x-python",
   "name": "python",
   "nbconvert_exporter": "python",
   "pygments_lexer": "ipython3",
   "version": "3.6.7"
  }
 },
 "nbformat": 4,
 "nbformat_minor": 2
}
