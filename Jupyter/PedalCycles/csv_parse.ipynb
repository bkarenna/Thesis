{
 "cells": [
  {
   "cell_type": "code",
   "execution_count": 1,
   "metadata": {},
   "outputs": [],
   "source": [
    "# extracting data\n",
    "import pandas as pd\n",
    "df = pd.read_csv(\"data/London_Annual_volume_of_traffic.csv\")\n",
    "df.to_csv(\"data/sorted_data_from_volume_of_traffic.csv\",index=False, columns=['Year','CP', 'Easting','Northing','PedalCycles','AllMotorVehicles'])\n"
   ]
  }
 ],
 "metadata": {
  "kernelspec": {
   "display_name": "Python 3",
   "language": "python",
   "name": "python3"
  },
  "language_info": {
   "codemirror_mode": {
    "name": "ipython",
    "version": 3
   },
   "file_extension": ".py",
   "mimetype": "text/x-python",
   "name": "python",
   "nbconvert_exporter": "python",
   "pygments_lexer": "ipython3",
   "version": "3.6.7"
  }
 },
 "nbformat": 4,
 "nbformat_minor": 2
}
